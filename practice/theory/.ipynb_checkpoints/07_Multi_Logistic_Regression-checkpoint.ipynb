{
 "cells": [
  {
   "cell_type": "code",
   "execution_count": 18,
   "metadata": {},
   "outputs": [],
   "source": [
    "import tensorflow as tf\n",
    "import numpy as np"
   ]
  },
  {
   "cell_type": "code",
   "execution_count": 31,
   "metadata": {},
   "outputs": [],
   "source": [
    "# seed 값 설정\n",
    "seed = 0\n",
    "np.random.seed(seed)\n",
    "tf.set_random_seed(seed)"
   ]
  },
  {
   "cell_type": "code",
   "execution_count": 32,
   "metadata": {},
   "outputs": [
    {
     "data": {
      "text/plain": [
       "(array([[ 2,  3],\n",
       "        [ 4,  3],\n",
       "        [ 6,  4],\n",
       "        [ 8,  6],\n",
       "        [10,  7],\n",
       "        [12,  8],\n",
       "        [14,  9]]), array([[0],\n",
       "        [0],\n",
       "        [0],\n",
       "        [1],\n",
       "        [1],\n",
       "        [1],\n",
       "        [1]]))"
      ]
     },
     "execution_count": 32,
     "metadata": {},
     "output_type": "execute_result"
    }
   ],
   "source": [
    "# x, y 데이터 값\n",
    "x_data = np.array([[2, 3,],[4, 3],[6, 4],[8, 6],[10, 7],[12, 8],[14, 9]])\n",
    "y_data = np.array([0, 0, 0, 1, 1, 1, 1]).reshape(7, 1)\n",
    "x_data, y_data"
   ]
  },
  {
   "cell_type": "code",
   "execution_count": 33,
   "metadata": {},
   "outputs": [
    {
     "data": {
      "text/plain": [
       "(<tf.Tensor 'Placeholder_6:0' shape=(?, 2) dtype=float64>,\n",
       " <tf.Tensor 'Placeholder_7:0' shape=(?, 1) dtype=float64>)"
      ]
     },
     "execution_count": 33,
     "metadata": {},
     "output_type": "execute_result"
    }
   ],
   "source": [
    "# 입력 값을 플레이스 홀더에 저장\n",
    "X = tf.placeholder(tf.float64, shape=[None, 2])\n",
    "Y = tf.placeholder(tf.float64, shape=[None, 1])\n",
    "X, Y"
   ]
  },
  {
   "cell_type": "code",
   "execution_count": 34,
   "metadata": {},
   "outputs": [],
   "source": [
    "# 기울기 a 와 바이어스 b 값을 임의로 정한다 [2, 1]: input 2, output 1\n",
    "a = tf.Variable(tf.random_uniform([2, 1], dtype=tf.float64))\n",
    "b = tf.Variable(tf.random_uniform([1], dtype=tf.float64))"
   ]
  },
  {
   "cell_type": "code",
   "execution_count": 35,
   "metadata": {},
   "outputs": [],
   "source": [
    "# y 시그모이드 방정식\n",
    "y = tf.sigmoid(tf.matmul(X, a) + b)"
   ]
  },
  {
   "cell_type": "code",
   "execution_count": 36,
   "metadata": {},
   "outputs": [],
   "source": [
    "# 오차를 구하는 함수\n",
    "loss = -tf.reduce_mean(Y * tf.log(y) + (1 - Y) * tf.log(1 - y))"
   ]
  },
  {
   "cell_type": "code",
   "execution_count": 37,
   "metadata": {},
   "outputs": [],
   "source": [
    "# 학습률 값\n",
    "learning_rate = 0.1"
   ]
  },
  {
   "cell_type": "code",
   "execution_count": 38,
   "metadata": {},
   "outputs": [],
   "source": [
    "# 오차를 최소로 하는 값 찾기\n",
    "gradient_decent = tf.train.GradientDescentOptimizer(learning_rate).minimize(loss)\n",
    "\n",
    "predicted = tf.cast(y > 0.5, dtype=tf.float64)\n",
    "accuracy = tf.reduce_mean(tf.cast(tf.equal(predicted, Y), dtype=tf.float64))"
   ]
  },
  {
   "cell_type": "code",
   "execution_count": 46,
   "metadata": {
    "scrolled": true
   },
   "outputs": [
    {
     "name": "stdout",
     "output_type": "stream",
     "text": [
      "step=300, a1=0.7345, a2=-0.4012, b=-2.6448, loss=0.2538\n",
      "step=600, a1=0.7545, a2=-0.1656, b=-4.0666, loss=0.1833\n",
      "step=900, a1=0.6795, a2=0.1353, b=-5.0988, loss=0.1444\n",
      "step=1200, a1=0.5873, a2=0.4217, b=-5.9186, loss=0.1188\n",
      "step=1500, a1=0.4971, a2=0.6798, b=-6.6007, loss=0.1008\n",
      "step=1800, a1=0.4142, a2=0.9092, b=-7.1855, loss=0.0874\n",
      "step=2100, a1=0.3398, a2=1.1130, b=-7.6976, loss=0.0771\n",
      "step=2400, a1=0.2735, a2=1.2948, b=-8.1533, loss=0.0689\n",
      "step=2700, a1=0.2143, a2=1.4578, b=-8.5638, loss=0.0622\n",
      "step=3000, a1=0.1614, a2=1.6051, b=-8.9374, loss=0.0568\n",
      "[[7. 6.]] [[0.86096069]]\n",
      "x1: 7, x2: 6\n",
      "Posibility:  86.10 \n"
     ]
    }
   ],
   "source": [
    "# 학습\n",
    "with tf.Session() as sess:\n",
    "    sess.run(tf.global_variables_initializer())\n",
    "    \n",
    "    for i in range(3001):\n",
    "        a_, b_, loss_, _ = sess.run([a, b, loss, gradient_decent], feed_dict={X: x_data, Y: y_data})\n",
    "        if(i + 1) % 300 == 0:\n",
    "            print('step=%d, a1=%.4f, a2=%.4f, b=%.4f, loss=%.4f' % (i + 1, a_[0], a_[1], b_, loss_))\n",
    "    # 값 입력\n",
    "    # input: 7, 6    \n",
    "    new_x = np.array([7, 6.]).reshape(1, 2) \n",
    "    new_y = sess.run(y, feed_dict={X: new_x})\n",
    "    \n",
    "    print(new_x, new_y)\n",
    "    print(\"x1: %d, x2: %d\" % (new_x[:,0], new_x[:,1]))\n",
    "    print(\"가능성: %6.2f \" % (new_y * 100))"
   ]
  },
  {
   "cell_type": "code",
   "execution_count": null,
   "metadata": {},
   "outputs": [],
   "source": []
  }
 ],
 "metadata": {
  "kernelspec": {
   "display_name": "keras",
   "language": "python",
   "name": "keras"
  },
  "language_info": {
   "codemirror_mode": {
    "name": "ipython",
    "version": 3
   },
   "file_extension": ".py",
   "mimetype": "text/x-python",
   "name": "python",
   "nbconvert_exporter": "python",
   "pygments_lexer": "ipython3",
   "version": "3.5.6"
  }
 },
 "nbformat": 4,
 "nbformat_minor": 2
}
