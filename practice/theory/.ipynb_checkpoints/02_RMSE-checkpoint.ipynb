{
 "cells": [
  {
   "cell_type": "code",
   "execution_count": 1,
   "metadata": {},
   "outputs": [],
   "source": [
    "import numpy as np\n",
    "\n",
    "# 기울기 a와 y절편 b\n",
    "ab = [3, 76]"
   ]
  },
  {
   "cell_type": "code",
   "execution_count": 2,
   "metadata": {},
   "outputs": [],
   "source": [
    "# x, y의 데이터 값\n",
    "data = [[2, 81], [4, 93], [6, 91], [8, 97]]\n",
    "x = [i[0] for i in data]\n",
    "y = [i[1] for i in data]"
   ]
  },
  {
   "cell_type": "code",
   "execution_count": 3,
   "metadata": {},
   "outputs": [],
   "source": [
    "# y = ax + b에 a 와 b 값을 대입하여 결과를 출력\n",
    "def predict(x):\n",
    "    return ab[0]*x + ab[1]"
   ]
  },
  {
   "cell_type": "code",
   "execution_count": 4,
   "metadata": {},
   "outputs": [],
   "source": [
    "# RMSE 함수\n",
    "def rmse(p, a):\n",
    "    return np.sqrt(((p-a) ** 2).mean())"
   ]
  },
  {
   "cell_type": "code",
   "execution_count": 5,
   "metadata": {},
   "outputs": [],
   "source": [
    "# RMSE 함수를 각 y에 대입하여 취종값을 구한다.\n",
    "def rmse_val(predict_result, y):\n",
    "    return rmse(np.array(predict_result), np.array(y))"
   ]
  },
  {
   "cell_type": "code",
   "execution_count": 6,
   "metadata": {},
   "outputs": [
    {
     "name": "stdout",
     "output_type": "stream",
     "text": [
      "x = 2, y = 81, predict = 82\n",
      "x = 4, y = 93, predict = 88\n",
      "x = 6, y = 91, predict = 94\n",
      "x = 8, y = 97, predict = 100\n"
     ]
    }
   ],
   "source": [
    "predict_result = []\n",
    "\n",
    "for i in range(len(x)):\n",
    "    predict_result.append(predict(x[i]))\n",
    "    print(\"x = %.f, y = %.f, predict = %.f\" % (x[i], y[i], predict(x[i])))"
   ]
  },
  {
   "cell_type": "code",
   "execution_count": 7,
   "metadata": {},
   "outputs": [
    {
     "name": "stdout",
     "output_type": "stream",
     "text": [
      "최종값: 3.3166247903554\n"
     ]
    }
   ],
   "source": [
    "# 최종 RMSE 출력\n",
    "print('최종값: ' + str(rmse_val(predict_result, y)))"
   ]
  },
  {
   "cell_type": "code",
   "execution_count": null,
   "metadata": {},
   "outputs": [],
   "source": []
  }
 ],
 "metadata": {
  "kernelspec": {
   "display_name": "keras",
   "language": "python",
   "name": "keras"
  },
  "language_info": {
   "codemirror_mode": {
    "name": "ipython",
    "version": 3
   },
   "file_extension": ".py",
   "mimetype": "text/x-python",
   "name": "python",
   "nbconvert_exporter": "python",
   "pygments_lexer": "ipython3",
   "version": "3.5.6"
  }
 },
 "nbformat": 4,
 "nbformat_minor": 2
}
