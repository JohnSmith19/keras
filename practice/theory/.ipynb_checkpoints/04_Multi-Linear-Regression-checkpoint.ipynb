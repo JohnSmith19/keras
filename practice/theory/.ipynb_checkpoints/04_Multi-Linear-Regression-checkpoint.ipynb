{
 "cells": [
  {
   "cell_type": "code",
   "execution_count": 1,
   "metadata": {},
   "outputs": [],
   "source": [
    "import tensorflow as tf"
   ]
  },
  {
   "cell_type": "code",
   "execution_count": 3,
   "metadata": {},
   "outputs": [],
   "source": [
    "# x1, x2, y 의 데이터 값\n",
    "data = [[2, 0, 81], [4, 4, 93], [6, 2, 91], [8, 3, 97]]\n",
    "x1 = [x_row1[0] for x_row1 in data]\n",
    "x2 = [x_row2[1] for x_row2 in data] # 새로 추가되는 값\n",
    "y_data = [y_row[2] for y_row in data]"
   ]
  },
  {
   "cell_type": "code",
   "execution_count": 4,
   "metadata": {},
   "outputs": [],
   "source": [
    "# 기울기 a와 y 절편 b의 값을 임의로 정한다.\n",
    "# 단, 기울기의 범위는 0 ~ 10 사이이며, y 절편은 0 ~ 100 사이에서 변하게 한다.\n",
    "a1 = tf.Variable(tf.random_uniform([1], 0, 10, dtype=tf.float64, seed=0))\n",
    "a2 = tf.Variable(tf.random_uniform([1], 0, 10, dtype=tf.float64, seed=0)) # 새로 추가되는 값\n",
    "b = tf.Variable(tf.random_uniform([1], 0, 100, dtype=tf.float64, seed=0))"
   ]
  },
  {
   "cell_type": "code",
   "execution_count": 5,
   "metadata": {},
   "outputs": [],
   "source": [
    "# 새로운 방정식\n",
    "y = a1 * x1 + a2 * x2 + b"
   ]
  },
  {
   "cell_type": "code",
   "execution_count": 6,
   "metadata": {},
   "outputs": [],
   "source": [
    "# 텐서플로우 RMSE 함수\n",
    "rmse = tf.sqrt(tf.reduce_mean(tf.square(y - y_data)))"
   ]
  },
  {
   "cell_type": "code",
   "execution_count": 7,
   "metadata": {},
   "outputs": [],
   "source": [
    "# 학습률 값\n",
    "learning_rate = 0.1"
   ]
  },
  {
   "cell_type": "code",
   "execution_count": 8,
   "metadata": {},
   "outputs": [],
   "source": [
    "# RMSE 값을 최소로 하는 값 찾기\n",
    "gradient_descent = tf.train.GradientDescentOptimizer(learning_rate).minimize(rmse)"
   ]
  },
  {
   "cell_type": "code",
   "execution_count": 9,
   "metadata": {},
   "outputs": [
    {
     "name": "stdout",
     "output_type": "stream",
     "text": [
      "Epoch: 0, RMSE = 49.1842, a1 = 7.5270, a2 = 7.8160 b = 80.5980\n",
      "Epoch: 100, RMSE = 1.8368, a1 = 1.1306, a2 = 2.1316 b = 78.5119\n",
      "Epoch: 200, RMSE = 1.8370, a1 = 1.1879, a2 = 2.1487 b = 78.1057\n",
      "Epoch: 300, RMSE = 1.8370, a1 = 1.2122, a2 = 2.1571 b = 77.9352\n",
      "Epoch: 400, RMSE = 1.8370, a1 = 1.2226, a2 = 2.1607 b = 77.8636\n",
      "Epoch: 500, RMSE = 1.8370, a1 = 1.2269, a2 = 2.1622 b = 77.8335\n",
      "Epoch: 600, RMSE = 1.8370, a1 = 1.2288, a2 = 2.1628 b = 77.8208\n",
      "Epoch: 700, RMSE = 1.8370, a1 = 1.2295, a2 = 2.1631 b = 77.8155\n",
      "Epoch: 800, RMSE = 1.8370, a1 = 1.2299, a2 = 2.1632 b = 77.8133\n",
      "Epoch: 900, RMSE = 1.8370, a1 = 1.2300, a2 = 2.1632 b = 77.8124\n",
      "Epoch: 1000, RMSE = 1.8370, a1 = 1.2301, a2 = 2.1633 b = 77.8120\n",
      "Epoch: 1100, RMSE = 1.8370, a1 = 1.2301, a2 = 2.1633 b = 77.8118\n",
      "Epoch: 1200, RMSE = 1.8370, a1 = 1.2301, a2 = 2.1633 b = 77.8117\n",
      "Epoch: 1300, RMSE = 1.8370, a1 = 1.2301, a2 = 2.1633 b = 77.8117\n",
      "Epoch: 1400, RMSE = 1.8370, a1 = 1.2301, a2 = 2.1633 b = 77.8117\n",
      "Epoch: 1500, RMSE = 1.8370, a1 = 1.2301, a2 = 2.1633 b = 77.8117\n",
      "Epoch: 1600, RMSE = 1.8370, a1 = 1.2301, a2 = 2.1633 b = 77.8117\n",
      "Epoch: 1700, RMSE = 1.8370, a1 = 1.2301, a2 = 2.1633 b = 77.8117\n",
      "Epoch: 1800, RMSE = 1.8370, a1 = 1.2301, a2 = 2.1633 b = 77.8117\n",
      "Epoch: 1900, RMSE = 1.8370, a1 = 1.2301, a2 = 2.1633 b = 77.8117\n",
      "Epoch: 2000, RMSE = 1.8370, a1 = 1.2301, a2 = 2.1633 b = 77.8117\n"
     ]
    }
   ],
   "source": [
    "# 학습\n",
    "with tf.Session() as sess:\n",
    "    sess.run(tf.global_variables_initializer())\n",
    "    \n",
    "    for step in range(2001):\n",
    "        sess.run(gradient_descent)\n",
    "        if step % 100 == 0:\n",
    "            print(\"Epoch: %.f, RMSE = %.04f, a1 = %.4f, a2 = %.4f b = %.4f\" % (step, sess.run(rmse), \n",
    "                                                                               sess.run(a1), sess.run(a2), sess.run(b)))"
   ]
  },
  {
   "cell_type": "code",
   "execution_count": null,
   "metadata": {},
   "outputs": [],
   "source": []
  }
 ],
 "metadata": {
  "kernelspec": {
   "display_name": "keras",
   "language": "python",
   "name": "keras"
  },
  "language_info": {
   "codemirror_mode": {
    "name": "ipython",
    "version": 3
   },
   "file_extension": ".py",
   "mimetype": "text/x-python",
   "name": "python",
   "nbconvert_exporter": "python",
   "pygments_lexer": "ipython3",
   "version": "3.5.6"
  }
 },
 "nbformat": 4,
 "nbformat_minor": 2
}
