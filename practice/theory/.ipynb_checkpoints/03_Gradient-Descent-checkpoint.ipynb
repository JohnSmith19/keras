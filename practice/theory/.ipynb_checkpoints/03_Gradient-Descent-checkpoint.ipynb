{
 "cells": [
  {
   "cell_type": "code",
   "execution_count": 1,
   "metadata": {},
   "outputs": [],
   "source": [
    "import tensorflow as tf"
   ]
  },
  {
   "cell_type": "code",
   "execution_count": 4,
   "metadata": {},
   "outputs": [
    {
     "data": {
      "text/plain": [
       "([2, 4, 6, 8], [81, 93, 91, 97])"
      ]
     },
     "execution_count": 4,
     "metadata": {},
     "output_type": "execute_result"
    }
   ],
   "source": [
    "# x, y의 데이터 값\n",
    "data = [[2, 81], [4, 93], [6,91], [8, 97]]\n",
    "x_data = [x_row[0] for x_row in data]\n",
    "y_data = [y_row[1] for y_row in data]\n",
    "x_data, y_data"
   ]
  },
  {
   "cell_type": "code",
   "execution_count": 5,
   "metadata": {},
   "outputs": [],
   "source": [
    "# 기울기 a와 y 절편 b의 값을 임의로 정한다.\n",
    "# 단 기울기의 범위는 0 ~ 10 사이이며, y 절편은 0 ~ 100 사이에서 변하게 한다.\n",
    "a = tf.Variable(tf.random_uniform([1], 0, 10, dtype=tf.float64, seed = 0))\n",
    "b = tf.Variable(tf.random_uniform([1], 0, 100, dtype=tf.float64, seed = 0))"
   ]
  },
  {
   "cell_type": "code",
   "execution_count": 6,
   "metadata": {},
   "outputs": [],
   "source": [
    "# y에 대한 일차 방정식 ax + b의 식을 세운다.\n",
    "y = a * x_data + b"
   ]
  },
  {
   "cell_type": "code",
   "execution_count": 7,
   "metadata": {},
   "outputs": [],
   "source": [
    "# 텐서플로우 RMSE 함수\n",
    "rmse = tf.sqrt(tf.reduce_mean(tf.square(y - y_data)))"
   ]
  },
  {
   "cell_type": "code",
   "execution_count": 9,
   "metadata": {},
   "outputs": [],
   "source": [
    "# 학습률 값\n",
    "learning_rate = 0.1"
   ]
  },
  {
   "cell_type": "code",
   "execution_count": 10,
   "metadata": {},
   "outputs": [],
   "source": [
    "# RMSE 값으로 최소로 하는 값 찾기\n",
    "gradient_descent = tf.train.GradientDescentOptimizer(leaning_rate).minimize(rmse)"
   ]
  },
  {
   "cell_type": "code",
   "execution_count": 14,
   "metadata": {},
   "outputs": [
    {
     "name": "stdout",
     "output_type": "stream",
     "text": [
      "Epoch: 0, RMSE = 30.2139, a= 7.5235, b = 80.5984\n",
      "Epoch: 100, RMSE = 2.8860, a= 2.2299, b = 79.4181\n",
      "Epoch: 200, RMSE = 2.8826, a= 2.2601, b = 79.2379\n",
      "Epoch: 300, RMSE = 2.8815, a= 2.2773, b = 79.1353\n",
      "Epoch: 400, RMSE = 2.8811, a= 2.2871, b = 79.0770\n",
      "Epoch: 500, RMSE = 2.8810, a= 2.2927, b = 79.0438\n",
      "Epoch: 600, RMSE = 2.8810, a= 2.2958, b = 79.0249\n",
      "Epoch: 700, RMSE = 2.8810, a= 2.2976, b = 79.0142\n",
      "Epoch: 800, RMSE = 2.8810, a= 2.2987, b = 79.0081\n",
      "Epoch: 900, RMSE = 2.8810, a= 2.2992, b = 79.0046\n",
      "Epoch: 1000, RMSE = 2.8810, a= 2.2996, b = 79.0026\n",
      "Epoch: 1100, RMSE = 2.8810, a= 2.2998, b = 79.0015\n",
      "Epoch: 1200, RMSE = 2.8810, a= 2.2999, b = 79.0008\n",
      "Epoch: 1300, RMSE = 2.8810, a= 2.2999, b = 79.0005\n",
      "Epoch: 1400, RMSE = 2.8810, a= 2.3000, b = 79.0003\n",
      "Epoch: 1500, RMSE = 2.8810, a= 2.3000, b = 79.0002\n",
      "Epoch: 1600, RMSE = 2.8810, a= 2.3000, b = 79.0001\n",
      "Epoch: 1700, RMSE = 2.8810, a= 2.3000, b = 79.0001\n",
      "Epoch: 1800, RMSE = 2.8810, a= 2.3000, b = 79.0000\n",
      "Epoch: 1900, RMSE = 2.8810, a= 2.3000, b = 79.0000\n",
      "Epoch: 2000, RMSE = 2.8810, a= 2.3000, b = 79.0000\n"
     ]
    }
   ],
   "source": [
    "# 학습\n",
    "with tf.Session() as sess:\n",
    "    #변수 초기화\n",
    "    sess.run(tf.global_variables_initializer())\n",
    "    # 2001 번 실행(0번째 포함)\n",
    "    for step in range(2001):\n",
    "        sess.run(gradient_descent)\n",
    "        # 100번마다 결과 출력\n",
    "        if step % 100 == 0:\n",
    "            print(\"Epoch: %.f, RMSE = %.04f, a= %.4f, b = %.4f\" % (step, sess.run(rmse), \n",
    "                                                                   sess.run(a), sess.run(b)))"
   ]
  },
  {
   "cell_type": "code",
   "execution_count": null,
   "metadata": {},
   "outputs": [],
   "source": []
  }
 ],
 "metadata": {
  "kernelspec": {
   "display_name": "keras",
   "language": "python",
   "name": "keras"
  },
  "language_info": {
   "codemirror_mode": {
    "name": "ipython",
    "version": 3
   },
   "file_extension": ".py",
   "mimetype": "text/x-python",
   "name": "python",
   "nbconvert_exporter": "python",
   "pygments_lexer": "ipython3",
   "version": "3.5.6"
  }
 },
 "nbformat": 4,
 "nbformat_minor": 2
}
