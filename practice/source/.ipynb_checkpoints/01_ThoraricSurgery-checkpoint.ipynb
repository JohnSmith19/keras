{
 "cells": [
  {
   "cell_type": "code",
   "execution_count": 1,
   "metadata": {},
   "outputs": [
    {
     "name": "stderr",
     "output_type": "stream",
     "text": [
      "Using TensorFlow backend.\n"
     ]
    }
   ],
   "source": [
    "# 딥러닝을 구동하는 데 필요한 케라스 함수를 불러옵니다.\n",
    "from keras.models import Sequential\n",
    "from keras.layers import Dense\n",
    "import pandas as pd"
   ]
  },
  {
   "cell_type": "code",
   "execution_count": 2,
   "metadata": {},
   "outputs": [],
   "source": [
    "# 필요한 라이브러리를 불러옵니다.\n",
    "import numpy\n",
    "import tensorflow as tf"
   ]
  },
  {
   "cell_type": "code",
   "execution_count": 3,
   "metadata": {},
   "outputs": [],
   "source": [
    "# 실행할 때마다 같은 결과를 출력하기 위해 설정하는 부분입니다.\n",
    "seed = 0\n",
    "numpy.random.seed(seed)\n",
    "tf.set_random_seed(seed)"
   ]
  },
  {
   "cell_type": "code",
   "execution_count": 5,
   "metadata": {},
   "outputs": [
    {
     "data": {
      "text/html": [
       "<div>\n",
       "<style scoped>\n",
       "    .dataframe tbody tr th:only-of-type {\n",
       "        vertical-align: middle;\n",
       "    }\n",
       "\n",
       "    .dataframe tbody tr th {\n",
       "        vertical-align: top;\n",
       "    }\n",
       "\n",
       "    .dataframe thead th {\n",
       "        text-align: right;\n",
       "    }\n",
       "</style>\n",
       "<table border=\"1\" class=\"dataframe\">\n",
       "  <thead>\n",
       "    <tr style=\"text-align: right;\">\n",
       "      <th></th>\n",
       "      <th>0</th>\n",
       "      <th>1</th>\n",
       "      <th>2</th>\n",
       "      <th>3</th>\n",
       "      <th>4</th>\n",
       "      <th>5</th>\n",
       "      <th>6</th>\n",
       "      <th>7</th>\n",
       "      <th>8</th>\n",
       "      <th>9</th>\n",
       "      <th>10</th>\n",
       "      <th>11</th>\n",
       "      <th>12</th>\n",
       "      <th>13</th>\n",
       "      <th>14</th>\n",
       "      <th>15</th>\n",
       "      <th>16</th>\n",
       "      <th>17</th>\n",
       "    </tr>\n",
       "  </thead>\n",
       "  <tbody>\n",
       "    <tr>\n",
       "      <th>0</th>\n",
       "      <td>293.0</td>\n",
       "      <td>1.0</td>\n",
       "      <td>3.80</td>\n",
       "      <td>2.80</td>\n",
       "      <td>0.0</td>\n",
       "      <td>0.0</td>\n",
       "      <td>0.0</td>\n",
       "      <td>0.0</td>\n",
       "      <td>0.0</td>\n",
       "      <td>0.0</td>\n",
       "      <td>12.0</td>\n",
       "      <td>0.0</td>\n",
       "      <td>0.0</td>\n",
       "      <td>0.0</td>\n",
       "      <td>1.0</td>\n",
       "      <td>0.0</td>\n",
       "      <td>62.0</td>\n",
       "      <td>0.0</td>\n",
       "    </tr>\n",
       "    <tr>\n",
       "      <th>1</th>\n",
       "      <td>1.0</td>\n",
       "      <td>2.0</td>\n",
       "      <td>2.88</td>\n",
       "      <td>2.16</td>\n",
       "      <td>1.0</td>\n",
       "      <td>0.0</td>\n",
       "      <td>0.0</td>\n",
       "      <td>0.0</td>\n",
       "      <td>1.0</td>\n",
       "      <td>1.0</td>\n",
       "      <td>14.0</td>\n",
       "      <td>0.0</td>\n",
       "      <td>0.0</td>\n",
       "      <td>0.0</td>\n",
       "      <td>1.0</td>\n",
       "      <td>0.0</td>\n",
       "      <td>60.0</td>\n",
       "      <td>0.0</td>\n",
       "    </tr>\n",
       "    <tr>\n",
       "      <th>2</th>\n",
       "      <td>8.0</td>\n",
       "      <td>2.0</td>\n",
       "      <td>3.19</td>\n",
       "      <td>2.50</td>\n",
       "      <td>1.0</td>\n",
       "      <td>0.0</td>\n",
       "      <td>0.0</td>\n",
       "      <td>0.0</td>\n",
       "      <td>1.0</td>\n",
       "      <td>0.0</td>\n",
       "      <td>11.0</td>\n",
       "      <td>0.0</td>\n",
       "      <td>0.0</td>\n",
       "      <td>1.0</td>\n",
       "      <td>1.0</td>\n",
       "      <td>0.0</td>\n",
       "      <td>66.0</td>\n",
       "      <td>1.0</td>\n",
       "    </tr>\n",
       "    <tr>\n",
       "      <th>3</th>\n",
       "      <td>14.0</td>\n",
       "      <td>2.0</td>\n",
       "      <td>3.98</td>\n",
       "      <td>3.06</td>\n",
       "      <td>2.0</td>\n",
       "      <td>0.0</td>\n",
       "      <td>0.0</td>\n",
       "      <td>0.0</td>\n",
       "      <td>1.0</td>\n",
       "      <td>1.0</td>\n",
       "      <td>14.0</td>\n",
       "      <td>0.0</td>\n",
       "      <td>0.0</td>\n",
       "      <td>0.0</td>\n",
       "      <td>1.0</td>\n",
       "      <td>0.0</td>\n",
       "      <td>80.0</td>\n",
       "      <td>1.0</td>\n",
       "    </tr>\n",
       "    <tr>\n",
       "      <th>4</th>\n",
       "      <td>17.0</td>\n",
       "      <td>2.0</td>\n",
       "      <td>2.21</td>\n",
       "      <td>1.88</td>\n",
       "      <td>0.0</td>\n",
       "      <td>0.0</td>\n",
       "      <td>1.0</td>\n",
       "      <td>0.0</td>\n",
       "      <td>0.0</td>\n",
       "      <td>0.0</td>\n",
       "      <td>12.0</td>\n",
       "      <td>0.0</td>\n",
       "      <td>0.0</td>\n",
       "      <td>0.0</td>\n",
       "      <td>1.0</td>\n",
       "      <td>0.0</td>\n",
       "      <td>56.0</td>\n",
       "      <td>0.0</td>\n",
       "    </tr>\n",
       "  </tbody>\n",
       "</table>\n",
       "</div>"
      ],
      "text/plain": [
       "      0    1     2     3    4    5    6    7    8    9     10   11   12   13  \\\n",
       "0  293.0  1.0  3.80  2.80  0.0  0.0  0.0  0.0  0.0  0.0  12.0  0.0  0.0  0.0   \n",
       "1    1.0  2.0  2.88  2.16  1.0  0.0  0.0  0.0  1.0  1.0  14.0  0.0  0.0  0.0   \n",
       "2    8.0  2.0  3.19  2.50  1.0  0.0  0.0  0.0  1.0  0.0  11.0  0.0  0.0  1.0   \n",
       "3   14.0  2.0  3.98  3.06  2.0  0.0  0.0  0.0  1.0  1.0  14.0  0.0  0.0  0.0   \n",
       "4   17.0  2.0  2.21  1.88  0.0  0.0  1.0  0.0  0.0  0.0  12.0  0.0  0.0  0.0   \n",
       "\n",
       "    14   15    16   17  \n",
       "0  1.0  0.0  62.0  0.0  \n",
       "1  1.0  0.0  60.0  0.0  \n",
       "2  1.0  0.0  66.0  1.0  \n",
       "3  1.0  0.0  80.0  1.0  \n",
       "4  1.0  0.0  56.0  0.0  "
      ]
     },
     "execution_count": 5,
     "metadata": {},
     "output_type": "execute_result"
    }
   ],
   "source": [
    "# 준비된 수술 환자 데이터를 불러들입니다.\n",
    "Data_set = numpy.loadtxt(\"../../dataset/ThoraricSurgery.csv\", delimiter=\",\")\n",
    "type(Data_set)\n",
    "df = pd.DataFrame(Data_set)\n",
    "df.head()"
   ]
  },
  {
   "cell_type": "code",
   "execution_count": 6,
   "metadata": {},
   "outputs": [],
   "source": [
    "# 환자의 기록과 수술 결과를 X와 Y로 구분하여 저장합니다.\n",
    "X = Data_set[:,0:17]\n",
    "Y = Data_set[:,17]"
   ]
  },
  {
   "cell_type": "code",
   "execution_count": 7,
   "metadata": {},
   "outputs": [
    {
     "data": {
      "text/plain": [
       "(array([[293.  ,   1.  ,   3.8 , ...,   1.  ,   0.  ,  62.  ],\n",
       "        [  1.  ,   2.  ,   2.88, ...,   1.  ,   0.  ,  60.  ],\n",
       "        [  8.  ,   2.  ,   3.19, ...,   1.  ,   0.  ,  66.  ],\n",
       "        ...,\n",
       "        [406.  ,   6.  ,   5.36, ...,   0.  ,   0.  ,  62.  ],\n",
       "        [ 25.  ,   8.  ,   4.32, ...,   0.  ,   0.  ,  58.  ],\n",
       "        [447.  ,   8.  ,   5.2 , ...,   0.  ,   0.  ,  49.  ]]),\n",
       " array([0., 0., 1., 1., 0., 0., 0., 1., 0., 0., 0., 0., 0., 0., 1., 0., 0.,\n",
       "        0., 0., 0., 0., 0., 0., 0., 0., 0., 1., 0., 0., 1., 1., 0., 0., 0.,\n",
       "        0., 0., 1., 0., 0., 1., 0., 0., 0., 1., 0., 1., 0., 0., 1., 0., 0.,\n",
       "        0., 0., 0., 0., 0., 1., 0., 1., 0., 0., 0., 0., 0., 0., 0., 0., 0.,\n",
       "        0., 0., 0., 0., 1., 0., 1., 0., 0., 0., 0., 0., 0., 0., 0., 0., 0.,\n",
       "        0., 1., 0., 0., 0., 0., 0., 0., 0., 1., 0., 1., 0., 0., 0., 0., 0.,\n",
       "        0., 0., 0., 0., 0., 0., 1., 0., 1., 0., 0., 0., 0., 0., 0., 0., 0.,\n",
       "        0., 0., 0., 0., 1., 0., 0., 0., 0., 1., 0., 0., 0., 0., 0., 0., 0.,\n",
       "        0., 0., 0., 0., 0., 0., 0., 0., 0., 0., 0., 1., 0., 0., 0., 0., 1.,\n",
       "        0., 0., 0., 0., 0., 0., 0., 0., 0., 0., 1., 1., 0., 0., 0., 0., 0.,\n",
       "        0., 0., 0., 0., 0., 0., 0., 0., 1., 0., 1., 0., 1., 0., 0., 0., 0.,\n",
       "        0., 0., 0., 0., 0., 0., 0., 0., 1., 0., 0., 1., 1., 0., 0., 0., 0.,\n",
       "        0., 0., 0., 0., 0., 0., 1., 0., 1., 0., 0., 0., 0., 0., 0., 0., 0.,\n",
       "        1., 0., 1., 0., 0., 0., 0., 0., 0., 0., 1., 0., 0., 0., 0., 0., 0.,\n",
       "        0., 0., 1., 0., 0., 0., 0., 0., 0., 0., 0., 1., 0., 0., 0., 0., 0.,\n",
       "        0., 1., 0., 1., 0., 0., 0., 0., 0., 0., 0., 0., 0., 0., 0., 0., 0.,\n",
       "        0., 0., 0., 0., 0., 1., 1., 0., 0., 0., 0., 1., 0., 0., 1., 0., 0.,\n",
       "        0., 0., 1., 0., 0., 0., 0., 0., 0., 1., 0., 0., 0., 0., 0., 0., 0.,\n",
       "        0., 0., 0., 1., 0., 0., 0., 0., 1., 0., 0., 0., 0., 0., 0., 1., 0.,\n",
       "        0., 0., 1., 0., 0., 0., 0., 0., 0., 0., 0., 0., 0., 0., 0., 0., 0.,\n",
       "        0., 0., 0., 0., 0., 1., 0., 0., 0., 0., 0., 0., 0., 0., 0., 0., 0.,\n",
       "        0., 0., 0., 0., 0., 0., 0., 0., 0., 0., 0., 1., 0., 0., 0., 0., 0.,\n",
       "        0., 0., 0., 0., 0., 0., 0., 0., 0., 0., 0., 0., 1., 0., 0., 0., 0.,\n",
       "        0., 0., 0., 0., 0., 0., 0., 0., 0., 0., 0., 0., 0., 0., 0., 1., 0.,\n",
       "        0., 1., 0., 1., 0., 0., 0., 1., 1., 0., 0., 0., 0., 0., 0., 0., 0.,\n",
       "        0., 0., 0., 0., 0., 0., 0., 0., 0., 0., 0., 0., 0., 0., 0., 0., 0.,\n",
       "        0., 1., 0., 0., 0., 0., 1., 0., 0., 1., 1., 0., 0., 1., 1., 0., 1.,\n",
       "        0., 0., 1., 1., 0., 0., 0., 0., 0., 1., 0.]))"
      ]
     },
     "execution_count": 7,
     "metadata": {},
     "output_type": "execute_result"
    }
   ],
   "source": [
    "X, Y"
   ]
  },
  {
   "cell_type": "code",
   "execution_count": 13,
   "metadata": {},
   "outputs": [],
   "source": [
    "# 딥러닝 구조를 결정합니다(모델을 설정하고 실행하는 부분입니다).\n",
    "model = Sequential()\n",
    "model.add(Dense(30, input_dim=17, activation='relu'))\n",
    "model.add(Dense(1, activation='sigmoid'))"
   ]
  },
  {
   "cell_type": "code",
   "execution_count": 14,
   "metadata": {
    "scrolled": false
   },
   "outputs": [
    {
     "name": "stdout",
     "output_type": "stream",
     "text": [
      "Epoch 1/30\n",
      "470/470 [==============================] - 0s 542us/step - loss: 0.1489 - acc: 0.8511\n",
      "Epoch 2/30\n",
      "470/470 [==============================] - 0s 208us/step - loss: 0.1487 - acc: 0.8511\n",
      "Epoch 3/30\n",
      "470/470 [==============================] - 0s 169us/step - loss: 0.1472 - acc: 0.8511\n",
      "Epoch 4/30\n",
      "470/470 [==============================] - 0s 150us/step - loss: 0.1468 - acc: 0.8511\n",
      "Epoch 5/30\n",
      "470/470 [==============================] - 0s 164us/step - loss: 0.1458 - acc: 0.8468\n",
      "Epoch 6/30\n",
      "470/470 [==============================] - 0s 117us/step - loss: 0.1447 - acc: 0.8468\n",
      "Epoch 7/30\n",
      "470/470 [==============================] - 0s 210us/step - loss: 0.1397 - acc: 0.8532\n",
      "Epoch 8/30\n",
      "470/470 [==============================] - 0s 212us/step - loss: 0.1385 - acc: 0.8511\n",
      "Epoch 9/30\n",
      "470/470 [==============================] - 0s 222us/step - loss: 0.1376 - acc: 0.8511\n",
      "Epoch 10/30\n",
      "470/470 [==============================] - 0s 170us/step - loss: 0.1426 - acc: 0.8468\n",
      "Epoch 11/30\n",
      "470/470 [==============================] - 0s 171us/step - loss: 0.1422 - acc: 0.8511\n",
      "Epoch 12/30\n",
      "470/470 [==============================] - 0s 113us/step - loss: 0.1397 - acc: 0.8511\n",
      "Epoch 13/30\n",
      "470/470 [==============================] - 0s 116us/step - loss: 0.1303 - acc: 0.8426\n",
      "Epoch 14/30\n",
      "470/470 [==============================] - 0s 174us/step - loss: 0.1323 - acc: 0.8532\n",
      "Epoch 15/30\n",
      "470/470 [==============================] - 0s 235us/step - loss: 0.1410 - acc: 0.8511\n",
      "Epoch 16/30\n",
      "470/470 [==============================] - 0s 172us/step - loss: 0.1381 - acc: 0.8489\n",
      "Epoch 17/30\n",
      "470/470 [==============================] - 0s 201us/step - loss: 0.1382 - acc: 0.8511\n",
      "Epoch 18/30\n",
      "470/470 [==============================] - 0s 168us/step - loss: 0.1387 - acc: 0.8511\n",
      "Epoch 19/30\n",
      "470/470 [==============================] - 0s 151us/step - loss: 0.1397 - acc: 0.8511\n",
      "Epoch 20/30\n",
      "470/470 [==============================] - 0s 192us/step - loss: 0.1371 - acc: 0.8511\n",
      "Epoch 21/30\n",
      "470/470 [==============================] - 0s 192us/step - loss: 0.1329 - acc: 0.8574\n",
      "Epoch 22/30\n",
      "470/470 [==============================] - 0s 150us/step - loss: 0.1398 - acc: 0.8511\n",
      "Epoch 23/30\n",
      "470/470 [==============================] - 0s 151us/step - loss: 0.1387 - acc: 0.8532\n",
      "Epoch 24/30\n",
      "470/470 [==============================] - 0s 167us/step - loss: 0.1375 - acc: 0.8532\n",
      "Epoch 25/30\n",
      "470/470 [==============================] - 0s 153us/step - loss: 0.1371 - acc: 0.8489\n",
      "Epoch 26/30\n",
      "470/470 [==============================] - 0s 168us/step - loss: 0.1389 - acc: 0.8489\n",
      "Epoch 27/30\n",
      "470/470 [==============================] - 0s 158us/step - loss: 0.1341 - acc: 0.8532\n",
      "Epoch 28/30\n",
      "470/470 [==============================] - 0s 166us/step - loss: 0.1409 - acc: 0.8511\n",
      "Epoch 29/30\n",
      "470/470 [==============================] - 0s 151us/step - loss: 0.1315 - acc: 0.8468\n",
      "Epoch 30/30\n",
      "470/470 [==============================] - 0s 166us/step - loss: 0.1471 - acc: 0.8468\n"
     ]
    },
    {
     "data": {
      "text/plain": [
       "<keras.callbacks.History at 0x7f1520210e80>"
      ]
     },
     "execution_count": 14,
     "metadata": {},
     "output_type": "execute_result"
    }
   ],
   "source": [
    "# 딥러닝을 실행합니다.\n",
    "model.compile(loss='mean_squared_error', optimizer='adam', metrics=['accuracy'])\n",
    "model.fit(X, Y, epochs=30, batch_size=10)"
   ]
  },
  {
   "cell_type": "code",
   "execution_count": 10,
   "metadata": {},
   "outputs": [
    {
     "name": "stdout",
     "output_type": "stream",
     "text": [
      "470/470 [==============================] - 0s 113us/step\n",
      "\n",
      " Accuracy: 0.8511\n"
     ]
    }
   ],
   "source": [
    "# 결과를 출력합니다.\n",
    "print(\"\\n Accuracy: %.4f\" % (model.evaluate(X, Y)[1]))"
   ]
  },
  {
   "cell_type": "code",
   "execution_count": null,
   "metadata": {},
   "outputs": [],
   "source": []
  }
 ],
 "metadata": {
  "kernelspec": {
   "display_name": "Python 3",
   "language": "python",
   "name": "python3"
  },
  "language_info": {
   "codemirror_mode": {
    "name": "ipython",
    "version": 3
   },
   "file_extension": ".py",
   "mimetype": "text/x-python",
   "name": "python",
   "nbconvert_exporter": "python",
   "pygments_lexer": "ipython3",
   "version": "3.5.6"
  }
 },
 "nbformat": 4,
 "nbformat_minor": 2
}
