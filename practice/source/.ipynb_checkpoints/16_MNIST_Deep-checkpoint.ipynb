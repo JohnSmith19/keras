{
 "cells": [
  {
   "cell_type": "code",
   "execution_count": 7,
   "metadata": {},
   "outputs": [],
   "source": [
    "from keras.datasets import mnist\n",
    "from keras.utils import np_utils\n",
    "from keras.models import Sequential\n",
    "from keras.layers import Dense, Dropout, Flatten, Conv2D, MaxPooling2D\n",
    "from keras.callbacks import ModelCheckpoint, EarlyStopping\n",
    "\n",
    "import matplotlib.pyplot as plt\n",
    "import numpy\n",
    "import os\n",
    "import tensorflow as tf"
   ]
  },
  {
   "cell_type": "code",
   "execution_count": 8,
   "metadata": {},
   "outputs": [],
   "source": [
    "# seed 값 설정\n",
    "seed = 0\n",
    "numpy.random.seed(seed)\n",
    "tf.set_random_seed(seed)"
   ]
  },
  {
   "cell_type": "code",
   "execution_count": 9,
   "metadata": {},
   "outputs": [],
   "source": [
    "# 데이터 불러오기\n",
    "(X_train, Y_train),(X_test, Y_test) = mnist.load_data()\n",
    "\n",
    "X_train = X_train.reshape(X_train.shape[0], 28, 28, 1).astype('float32')/255\n",
    "X_test = X_test.reshape(X_test.shape[0], 28, 28, 1).astype('float32')/255\n",
    "Y_train = np_utils.to_categorical(Y_train)\n",
    "Y_test = np_utils.to_categorical(Y_test)"
   ]
  },
  {
   "cell_type": "code",
   "execution_count": 10,
   "metadata": {},
   "outputs": [],
   "source": [
    "# 컨볼루션 신경망 설정\n",
    "model = Sequential()\n",
    "model.add(Conv2D(32, kernel_size=(3, 3), input_shape=(28, 28, 1), activation='relu'))\n",
    "model.add(Conv2D(64, (3, 3), activation='relu'))\n",
    "model.add(MaxPooling2D(pool_size=2))\n",
    "model.add(Dropout(0.25))\n",
    "model.add(Flatten())\n",
    "model.add(Dense(128, activation='relu'))\n",
    "model.add(Dropout(0.5))\n",
    "model.add(Dense(10, activation='softmax'))\n",
    "\n",
    "\n",
    "model.compile(loss='categorical_crossentropy', optimizer='adam', metrics=['accuracy'])"
   ]
  },
  {
   "cell_type": "code",
   "execution_count": 11,
   "metadata": {},
   "outputs": [],
   "source": [
    "# 모델 최적화 설정\n",
    "MODEL_DIR = './model'\n",
    "if not os.path.exists(MODEL_DIR):\n",
    "    os.mkdir(MODEL_DIR)\n",
    "\n",
    "modelpath = './model/{epoch:02d}-{val_loss:.4f}.hdf5'\n",
    "checkpointer = ModelCheckpoint(filepath=modelpath, monitor='val_loss', verbose=1, save_best_only=True)\n",
    "early_stopping_callback = EarlyStopping(monitor='val_loss', patience=10)"
   ]
  },
  {
   "cell_type": "code",
   "execution_count": 12,
   "metadata": {},
   "outputs": [
    {
     "name": "stdout",
     "output_type": "stream",
     "text": [
      "Train on 60000 samples, validate on 10000 samples\n",
      "Epoch 1/30\n",
      "60000/60000 [==============================] - 143s 2ms/step - loss: 0.8161 - acc: 0.7473 - val_loss: 0.2577 - val_acc: 0.9249\n",
      "\n",
      "Epoch 00001: val_loss improved from inf to 0.25771, saving model to ./model/01-0.2577.hdf5\n",
      "Epoch 2/30\n",
      "60000/60000 [==============================] - 144s 2ms/step - loss: 0.2812 - acc: 0.9171 - val_loss: 0.1339 - val_acc: 0.9608\n",
      "\n",
      "Epoch 00002: val_loss improved from 0.25771 to 0.13385, saving model to ./model/02-0.1339.hdf5\n",
      "Epoch 3/30\n",
      "60000/60000 [==============================] - 147s 2ms/step - loss: 0.1747 - acc: 0.9497 - val_loss: 0.0833 - val_acc: 0.9742\n",
      "\n",
      "Epoch 00003: val_loss improved from 0.13385 to 0.08330, saving model to ./model/03-0.0833.hdf5\n",
      "Epoch 4/30\n",
      "60000/60000 [==============================] - 144s 2ms/step - loss: 0.1228 - acc: 0.9645 - val_loss: 0.0600 - val_acc: 0.9816\n",
      "\n",
      "Epoch 00004: val_loss improved from 0.08330 to 0.06002, saving model to ./model/04-0.0600.hdf5\n",
      "Epoch 5/30\n",
      "60000/60000 [==============================] - 143s 2ms/step - loss: 0.0952 - acc: 0.9719 - val_loss: 0.0483 - val_acc: 0.9843\n",
      "\n",
      "Epoch 00005: val_loss improved from 0.06002 to 0.04825, saving model to ./model/05-0.0483.hdf5\n",
      "Epoch 6/30\n",
      "60000/60000 [==============================] - 144s 2ms/step - loss: 0.0801 - acc: 0.9766 - val_loss: 0.0428 - val_acc: 0.9864\n",
      "\n",
      "Epoch 00006: val_loss improved from 0.04825 to 0.04280, saving model to ./model/06-0.0428.hdf5\n",
      "Epoch 7/30\n",
      "60000/60000 [==============================] - 143s 2ms/step - loss: 0.0697 - acc: 0.9792 - val_loss: 0.0378 - val_acc: 0.9877\n",
      "\n",
      "Epoch 00007: val_loss improved from 0.04280 to 0.03783, saving model to ./model/07-0.0378.hdf5\n",
      "Epoch 8/30\n",
      "60000/60000 [==============================] - 143s 2ms/step - loss: 0.0626 - acc: 0.9818 - val_loss: 0.0347 - val_acc: 0.9883\n",
      "\n",
      "Epoch 00008: val_loss improved from 0.03783 to 0.03472, saving model to ./model/08-0.0347.hdf5\n",
      "Epoch 9/30\n",
      "60000/60000 [==============================] - 145s 2ms/step - loss: 0.0573 - acc: 0.9824 - val_loss: 0.0337 - val_acc: 0.9893\n",
      "\n",
      "Epoch 00009: val_loss improved from 0.03472 to 0.03368, saving model to ./model/09-0.0337.hdf5\n",
      "Epoch 10/30\n",
      "60000/60000 [==============================] - 145s 2ms/step - loss: 0.0508 - acc: 0.9843 - val_loss: 0.0343 - val_acc: 0.9892\n",
      "\n",
      "Epoch 00010: val_loss did not improve from 0.03368\n",
      "Epoch 11/30\n",
      "60000/60000 [==============================] - 143s 2ms/step - loss: 0.0478 - acc: 0.9851 - val_loss: 0.0313 - val_acc: 0.9893\n",
      "\n",
      "Epoch 00011: val_loss improved from 0.03368 to 0.03128, saving model to ./model/11-0.0313.hdf5\n",
      "Epoch 12/30\n",
      "60000/60000 [==============================] - 143s 2ms/step - loss: 0.0459 - acc: 0.9857 - val_loss: 0.0306 - val_acc: 0.9901\n",
      "\n",
      "Epoch 00012: val_loss improved from 0.03128 to 0.03057, saving model to ./model/12-0.0306.hdf5\n",
      "Epoch 13/30\n",
      "60000/60000 [==============================] - 143s 2ms/step - loss: 0.0428 - acc: 0.9870 - val_loss: 0.0290 - val_acc: 0.9899\n",
      "\n",
      "Epoch 00013: val_loss improved from 0.03057 to 0.02903, saving model to ./model/13-0.0290.hdf5\n",
      "Epoch 14/30\n",
      "60000/60000 [==============================] - 144s 2ms/step - loss: 0.0400 - acc: 0.9874 - val_loss: 0.0287 - val_acc: 0.9900\n",
      "\n",
      "Epoch 00014: val_loss improved from 0.02903 to 0.02872, saving model to ./model/14-0.0287.hdf5\n",
      "Epoch 15/30\n",
      "60000/60000 [==============================] - 145s 2ms/step - loss: 0.0375 - acc: 0.9887 - val_loss: 0.0284 - val_acc: 0.9901\n",
      "\n",
      "Epoch 00015: val_loss improved from 0.02872 to 0.02840, saving model to ./model/15-0.0284.hdf5\n",
      "Epoch 16/30\n",
      "60000/60000 [==============================] - 146s 2ms/step - loss: 0.0334 - acc: 0.9895 - val_loss: 0.0278 - val_acc: 0.9901\n",
      "\n",
      "Epoch 00016: val_loss improved from 0.02840 to 0.02776, saving model to ./model/16-0.0278.hdf5\n",
      "Epoch 17/30\n",
      "60000/60000 [==============================] - 144s 2ms/step - loss: 0.0334 - acc: 0.9893 - val_loss: 0.0283 - val_acc: 0.9906\n",
      "\n",
      "Epoch 00017: val_loss did not improve from 0.02776\n",
      "Epoch 18/30\n",
      "60000/60000 [==============================] - 144s 2ms/step - loss: 0.0297 - acc: 0.9904 - val_loss: 0.0256 - val_acc: 0.9910\n",
      "\n",
      "Epoch 00018: val_loss improved from 0.02776 to 0.02559, saving model to ./model/18-0.0256.hdf5\n",
      "Epoch 19/30\n",
      "60000/60000 [==============================] - 143s 2ms/step - loss: 0.0302 - acc: 0.9901 - val_loss: 0.0286 - val_acc: 0.9907\n",
      "\n",
      "Epoch 00019: val_loss did not improve from 0.02559\n",
      "Epoch 20/30\n",
      "60000/60000 [==============================] - 144s 2ms/step - loss: 0.0278 - acc: 0.9915 - val_loss: 0.0281 - val_acc: 0.9912\n",
      "\n",
      "Epoch 00020: val_loss did not improve from 0.02559\n",
      "Epoch 21/30\n",
      "60000/60000 [==============================] - 139s 2ms/step - loss: 0.0254 - acc: 0.9921 - val_loss: 0.0253 - val_acc: 0.9917\n",
      "\n",
      "Epoch 00021: val_loss improved from 0.02559 to 0.02535, saving model to ./model/21-0.0253.hdf5\n",
      "Epoch 22/30\n",
      "60000/60000 [==============================] - 139s 2ms/step - loss: 0.0259 - acc: 0.9918 - val_loss: 0.0290 - val_acc: 0.9904\n",
      "\n",
      "Epoch 00022: val_loss did not improve from 0.02535\n",
      "Epoch 23/30\n",
      "60000/60000 [==============================] - 139s 2ms/step - loss: 0.0248 - acc: 0.9919 - val_loss: 0.0254 - val_acc: 0.9923\n",
      "\n",
      "Epoch 00023: val_loss did not improve from 0.02535\n",
      "Epoch 24/30\n",
      "60000/60000 [==============================] - 140s 2ms/step - loss: 0.0239 - acc: 0.9924 - val_loss: 0.0293 - val_acc: 0.9906\n",
      "\n",
      "Epoch 00024: val_loss did not improve from 0.02535\n",
      "Epoch 25/30\n",
      "60000/60000 [==============================] - 138s 2ms/step - loss: 0.0213 - acc: 0.9927 - val_loss: 0.0256 - val_acc: 0.9920\n",
      "\n",
      "Epoch 00025: val_loss did not improve from 0.02535\n",
      "Epoch 26/30\n",
      "60000/60000 [==============================] - 139s 2ms/step - loss: 0.0215 - acc: 0.9930 - val_loss: 0.0287 - val_acc: 0.9908\n",
      "\n",
      "Epoch 00026: val_loss did not improve from 0.02535\n",
      "Epoch 27/30\n",
      "60000/60000 [==============================] - 140s 2ms/step - loss: 0.0207 - acc: 0.9931 - val_loss: 0.0261 - val_acc: 0.9923\n",
      "\n",
      "Epoch 00027: val_loss did not improve from 0.02535\n",
      "Epoch 28/30\n",
      "60000/60000 [==============================] - 140s 2ms/step - loss: 0.0202 - acc: 0.9934 - val_loss: 0.0262 - val_acc: 0.9918\n",
      "\n",
      "Epoch 00028: val_loss did not improve from 0.02535\n",
      "Epoch 29/30\n",
      "60000/60000 [==============================] - 139s 2ms/step - loss: 0.0185 - acc: 0.9938 - val_loss: 0.0281 - val_acc: 0.9921\n",
      "\n",
      "Epoch 00029: val_loss did not improve from 0.02535\n",
      "Epoch 30/30\n",
      "60000/60000 [==============================] - 139s 2ms/step - loss: 0.0180 - acc: 0.9942 - val_loss: 0.0310 - val_acc: 0.9910\n",
      "\n",
      "Epoch 00030: val_loss did not improve from 0.02535\n"
     ]
    }
   ],
   "source": [
    "# 모델의 실행\n",
    "history = model.fit(X_train, Y_train, validation_data=(X_test, Y_test), epochs=30, batch_size=2000, verbose=1, \n",
    "                    callbacks=[early_stopping_callback, checkpointer])"
   ]
  },
  {
   "cell_type": "code",
   "execution_count": 13,
   "metadata": {},
   "outputs": [
    {
     "name": "stdout",
     "output_type": "stream",
     "text": [
      "10000/10000 [==============================] - 7s 673us/step\n",
      "Test Accuracy: 0.9910\n"
     ]
    }
   ],
   "source": [
    "# 테스트 정확도 출력\n",
    "print('Test Accuracy: %.4f' % (model.evaluate(X_test, Y_test)[1]))"
   ]
  },
  {
   "cell_type": "code",
   "execution_count": 14,
   "metadata": {},
   "outputs": [],
   "source": [
    "import matplotlib.pyplot as plt\n",
    "\n",
    "# 테스트셋의 오차\n",
    "y_vloss = history.history['val_loss']\n",
    "# 학습셋의 오차\n",
    "y_loss = history.history['loss']"
   ]
  },
  {
   "cell_type": "code",
   "execution_count": 15,
   "metadata": {},
   "outputs": [
    {
     "data": {
      "text/plain": [
       "Text(0, 0.5, 'loss')"
      ]
     },
     "execution_count": 15,
     "metadata": {},
     "output_type": "execute_result"
    },
    {
     "data": {
      "image/png": "[encoded data removed]",
      "text/plain": [
       "<Figure size 432x288 with 1 Axes>"
      ]
     },
     "metadata": {
      "needs_background": "light"
     },
     "output_type": "display_data"
    }
   ],
   "source": [
    "# 그래프로 표현\n",
    "x_len = numpy.arange(len(y_loss))\n",
    "plt.plot(x_len, y_vloss, marker='.', c='red', label='Testset_loss')\n",
    "plt.plot(x_len, y_loss, marker='.', c='blue', label='Trainset_loss')\n",
    "\n",
    "# 그리드와 레이블\n",
    "plt.legend(loc='upper right')\n",
    "plt.grid()\n",
    "plt.xlabel('epoch')\n",
    "plt.ylabel('loss')"
   ]
  },
  {
   "cell_type": "code",
   "execution_count": null,
   "metadata": {},
   "outputs": [],
   "source": []
  }
 ],
 "metadata": {
  "kernelspec": {
   "display_name": "Python 3",
   "language": "python",
   "name": "python3"
  },
  "language_info": {
   "codemirror_mode": {
    "name": "ipython",
    "version": 3
   },
   "file_extension": ".py",
   "mimetype": "text/x-python",
   "name": "python",
   "nbconvert_exporter": "python",
   "pygments_lexer": "ipython3",
   "version": "3.5.6"
  }
 },
 "nbformat": 4,
 "nbformat_minor": 2
}
