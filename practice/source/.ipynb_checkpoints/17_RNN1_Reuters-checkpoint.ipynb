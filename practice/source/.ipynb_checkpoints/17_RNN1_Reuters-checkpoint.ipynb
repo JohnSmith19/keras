{
 "cells": [
  {
   "cell_type": "code",
   "execution_count": 1,
   "metadata": {},
   "outputs": [],
   "source": [
    "from keras.datasets import reuters\n",
    "from keras.models import Sequential\n",
    "from keras.layers import Dense, LSTM, Embedding\n",
    "from keras.preprocessing import sequence\n",
    "from keras.utils import np_utils\n",
    "\n",
    "import numpy\n",
    "import tensorflow as tf\n",
    "import matplotlib.pyplot as plt"
   ]
  },
  {
   "cell_type": "code",
   "execution_count": 2,
   "metadata": {},
   "outputs": [],
   "source": [
    "# seed 값 설정\n",
    "seed = 0\n",
    "numpy.random.seed(seed)\n",
    "tf.set_random_seed(seed)"
   ]
  },
  {
   "cell_type": "code",
   "execution_count": 3,
   "metadata": {},
   "outputs": [
    {
     "name": "stdout",
     "output_type": "stream",
     "text": [
      "Downloading data from https://s3.amazonaws.com/text-datasets/reuters.npz\n",
      "2113536/2110848 [==============================] - 1s 1us/step\n"
     ]
    }
   ],
   "source": [
    "# 로이터 뉴스 데이터셋을 불러오고 불러온 데이터를 학습셋과 테스트셋으로 나누기\n",
    "(X_train, Y_train), (X_test, Y_test) = reuters.load_data(num_words=1000, test_split=0.2)"
   ]
  },
  {
   "cell_type": "code",
   "execution_count": 23,
   "metadata": {},
   "outputs": [
    {
     "name": "stdout",
     "output_type": "stream",
     "text": [
      "46 카테고리\n",
      "8982 학습용 뉴스 기사\n",
      "2246 테스트용 뉴스 기사\n",
      "[1, 2, 2, 8, 43, 10, 447, 5, 25, 207, 270, 5, 2, 111, 16, 369, 186, 90, 67, 7, 89, 5, 19, 102, 6, 19, 124, 15, 90, 67, 84, 22, 482, 26, 7, 48, 4, 49, 8, 864, 39, 209, 154, 6, 151, 6, 83, 11, 15, 22, 155, 11, 15, 7, 48, 9, 2, 2, 504, 6, 258, 6, 272, 11, 15, 22, 134, 44, 11, 15, 16, 8, 197, 2, 90, 67, 52, 29, 209, 30, 32, 132, 6, 109, 15, 17, 12]\n"
     ]
    },
    {
     "data": {
      "text/plain": [
       "array([ 3,  4,  3, ..., 25,  3, 25])"
      ]
     },
     "execution_count": 23,
     "metadata": {},
     "output_type": "execute_result"
    }
   ],
   "source": [
    "# 데이터 확인하기\n",
    "category = numpy.max(Y_train) + 1\n",
    "print(category, '카테고리')\n",
    "print(len(X_train), '학습용 뉴스 기사')\n",
    "print(len(X_test), '테스트용 뉴스 기사')\n",
    "print(X_train[0])\n",
    "Y_train"
   ]
  },
  {
   "cell_type": "code",
   "execution_count": 14,
   "metadata": {},
   "outputs": [],
   "source": [
    "# 데이터 전처리\n",
    "x_train = sequence.pad_sequences(X_train, maxlen=100)\n",
    "x_test = sequence.pad_sequences(X_test, maxlen=100)\n",
    "\n",
    "# Y-Data 원-핫 인코딩\n",
    "y_train = np_utils.to_categorical(Y_train)\n",
    "y_test = np_utils.to_categorical(Y_test)"
   ]
  },
  {
   "cell_type": "code",
   "execution_count": 11,
   "metadata": {},
   "outputs": [],
   "source": [
    "# 모델 설정\n",
    "model = Sequential()\n",
    "model.add(Embedding(1000, 100))\n",
    "model.add(LSTM(100, activation='tanh'))\n",
    "model.add(Dense(46, activation='softmax'))"
   ]
  },
  {
   "cell_type": "code",
   "execution_count": 12,
   "metadata": {},
   "outputs": [],
   "source": [
    "# 모델 컴파일\n",
    "model.compile(loss='categorical_crossentropy',\n",
    "             optimizer='adam',\n",
    "             metrics=['accuracy'])"
   ]
  },
  {
   "cell_type": "code",
   "execution_count": 15,
   "metadata": {},
   "outputs": [
    {
     "name": "stdout",
     "output_type": "stream",
     "text": [
      "Train on 8982 samples, validate on 2246 samples\n",
      "Epoch 1/20\n",
      "8982/8982 [==============================] - 87s 10ms/step - loss: 2.2580 - acc: 0.4479 - val_loss: 1.8781 - val_acc: 0.5312\n",
      "Epoch 2/20\n",
      "8982/8982 [==============================] - 86s 10ms/step - loss: 1.7046 - acc: 0.5685 - val_loss: 1.6629 - val_acc: 0.5859\n",
      "Epoch 3/20\n",
      "8982/8982 [==============================] - 97s 11ms/step - loss: 1.4881 - acc: 0.6241 - val_loss: 1.5079 - val_acc: 0.6109\n",
      "Epoch 4/20\n",
      "8982/8982 [==============================] - 86s 10ms/step - loss: 1.3086 - acc: 0.6711 - val_loss: 1.4048 - val_acc: 0.6483\n",
      "Epoch 5/20\n",
      "8982/8982 [==============================] - 85s 9ms/step - loss: 1.1505 - acc: 0.7115 - val_loss: 1.2942 - val_acc: 0.6892\n",
      "Epoch 6/20\n",
      "8982/8982 [==============================] - 88s 10ms/step - loss: 1.0228 - acc: 0.7477 - val_loss: 1.2568 - val_acc: 0.6808\n",
      "Epoch 7/20\n",
      "8982/8982 [==============================] - 85s 9ms/step - loss: 0.9181 - acc: 0.7646 - val_loss: 1.2042 - val_acc: 0.7057\n",
      "Epoch 8/20\n",
      "8982/8982 [==============================] - 85s 9ms/step - loss: 0.8145 - acc: 0.7970 - val_loss: 1.1985 - val_acc: 0.7030\n",
      "Epoch 9/20\n",
      "8982/8982 [==============================] - 86s 10ms/step - loss: 0.7062 - acc: 0.8254 - val_loss: 1.1588 - val_acc: 0.7222\n",
      "Epoch 10/20\n",
      "8982/8982 [==============================] - 85s 9ms/step - loss: 0.6221 - acc: 0.8466 - val_loss: 1.1818 - val_acc: 0.7235\n",
      "Epoch 11/20\n",
      "8982/8982 [==============================] - 85s 9ms/step - loss: 0.5518 - acc: 0.8617 - val_loss: 1.1785 - val_acc: 0.7271\n",
      "Epoch 12/20\n",
      "8982/8982 [==============================] - 85s 9ms/step - loss: 0.4795 - acc: 0.8849 - val_loss: 1.2442 - val_acc: 0.7217\n",
      "Epoch 13/20\n",
      "8982/8982 [==============================] - 85s 9ms/step - loss: 0.4169 - acc: 0.8992 - val_loss: 1.2517 - val_acc: 0.7297\n",
      "Epoch 14/20\n",
      "8982/8982 [==============================] - 85s 9ms/step - loss: 0.3568 - acc: 0.9138 - val_loss: 1.2937 - val_acc: 0.7208\n",
      "Epoch 15/20\n",
      "8982/8982 [==============================] - 85s 9ms/step - loss: 0.3139 - acc: 0.9225 - val_loss: 1.3286 - val_acc: 0.7248\n",
      "Epoch 16/20\n",
      "8982/8982 [==============================] - 85s 9ms/step - loss: 0.2800 - acc: 0.9319 - val_loss: 1.3650 - val_acc: 0.7204\n",
      "Epoch 17/20\n",
      "8982/8982 [==============================] - 86s 10ms/step - loss: 0.2479 - acc: 0.9381 - val_loss: 1.4045 - val_acc: 0.7155\n",
      "Epoch 18/20\n",
      "8982/8982 [==============================] - 85s 9ms/step - loss: 0.2253 - acc: 0.9427 - val_loss: 1.4610 - val_acc: 0.7204\n",
      "Epoch 19/20\n",
      "8982/8982 [==============================] - 86s 10ms/step - loss: 0.2118 - acc: 0.9419 - val_loss: 1.4719 - val_acc: 0.7119\n",
      "Epoch 20/20\n",
      "8982/8982 [==============================] - 108s 12ms/step - loss: 0.1859 - acc: 0.9471 - val_loss: 1.5249 - val_acc: 0.7186\n"
     ]
    }
   ],
   "source": [
    "# 모델의 실행\n",
    "history = model.fit(x_train, y_train, batch_size=100, epochs=20, validation_data=(x_test, y_test))"
   ]
  },
  {
   "cell_type": "code",
   "execution_count": 16,
   "metadata": {},
   "outputs": [
    {
     "name": "stdout",
     "output_type": "stream",
     "text": [
      "2246/2246 [==============================] - 7s 3ms/step\n",
      "Test Accuracy: 0.7186\n"
     ]
    }
   ],
   "source": [
    "# 테스트 정확도\n",
    "print(\"Test Accuracy: %.4f\" % (model.evaluate(x_test, y_test)[1]))"
   ]
  },
  {
   "cell_type": "code",
   "execution_count": 19,
   "metadata": {},
   "outputs": [],
   "source": [
    "# 테스트셋 오차\n",
    "y_vloss = history.history['val_loss']"
   ]
  },
  {
   "cell_type": "code",
   "execution_count": 20,
   "metadata": {},
   "outputs": [],
   "source": [
    "# 학습셋 오차\n",
    "y_loss = history.history['loss']"
   ]
  },
  {
   "cell_type": "code",
   "execution_count": 22,
   "metadata": {},
   "outputs": [
    {
     "data": {
      "text/plain": [
       "Text(0, 0.5, 'loss')"
      ]
     },
     "execution_count": 22,
     "metadata": {},
     "output_type": "execute_result"
    },
    {
     "data": {
      "image/png": "[encoded data removed]",
      "text/plain": [
       "<Figure size 432x288 with 1 Axes>"
      ]
     },
     "metadata": {
      "needs_background": "light"
     },
     "output_type": "display_data"
    }
   ],
   "source": [
    "# 그래프로 표현\n",
    "x_len = numpy.arange(len(y_loss))\n",
    "plt.plot(x_len, y_vloss, marker='.', c='red', label='Testset_loss')\n",
    "plt.plot(x_len, y_loss, marker='.', c='blue', label='Trainset_loss')\n",
    "\n",
    "# 그리드를 그리고 레이블을 표시\n",
    "plt.legend(loc='upper right')\n",
    "plt.grid()\n",
    "plt.xlabel('epoch')\n",
    "plt.ylabel('loss')"
   ]
  },
  {
   "cell_type": "code",
   "execution_count": null,
   "metadata": {},
   "outputs": [],
   "source": []
  }
 ],
 "metadata": {
  "kernelspec": {
   "display_name": "Python 3",
   "language": "python",
   "name": "python3"
  },
  "language_info": {
   "codemirror_mode": {
    "name": "ipython",
    "version": 3
   },
   "file_extension": ".py",
   "mimetype": "text/x-python",
   "name": "python",
   "nbconvert_exporter": "python",
   "pygments_lexer": "ipython3",
   "version": "3.5.6"
  }
 },
 "nbformat": 4,
 "nbformat_minor": 2
}
