{
 "cells": [
  {
   "cell_type": "code",
   "execution_count": 24,
   "metadata": {},
   "outputs": [],
   "source": [
    "from keras.datasets import reuters\n",
    "from keras.models import Sequential\n",
    "from keras.layers import Dense, LSTM, Embedding\n",
    "from keras.preprocessing import sequence\n",
    "from keras.utils import np_utils\n",
    "\n",
    "import numpy\n",
    "import tensorflow as tf\n",
    "import matplotlib.pyplot as plt"
   ]
  },
  {
   "cell_type": "code",
   "execution_count": 25,
   "metadata": {},
   "outputs": [],
   "source": [
    "# seed 값 설정\n",
    "seed = 0\n",
    "numpy.random.seed(seed)\n",
    "tf.set_random_seed(seed)"
   ]
  },
  {
   "cell_type": "code",
   "execution_count": 26,
   "metadata": {},
   "outputs": [],
   "source": [
    "# 로이터 뉴스 데이터셋을 불러오고 불러온 데이터를 학습셋과 테스트셋으로 나누기\n",
    "(X_train, Y_train), (X_test, Y_test) = reuters.load_data(num_words=1000, test_split=0.2)"
   ]
  },
  {
   "cell_type": "code",
   "execution_count": 27,
   "metadata": {},
   "outputs": [
    {
     "name": "stdout",
     "output_type": "stream",
     "text": [
      "46 카테고리\n",
      "8982 학습용 뉴스 기사\n",
      "2246 테스트용 뉴스 기사\n",
      "[1, 2, 2, 8, 43, 10, 447, 5, 25, 207, 270, 5, 2, 111, 16, 369, 186, 90, 67, 7, 89, 5, 19, 102, 6, 19, 124, 15, 90, 67, 84, 22, 482, 26, 7, 48, 4, 49, 8, 864, 39, 209, 154, 6, 151, 6, 83, 11, 15, 22, 155, 11, 15, 7, 48, 9, 2, 2, 504, 6, 258, 6, 272, 11, 15, 22, 134, 44, 11, 15, 16, 8, 197, 2, 90, 67, 52, 29, 209, 30, 32, 132, 6, 109, 15, 17, 12]\n"
     ]
    },
    {
     "data": {
      "text/plain": [
       "array([ 3,  4,  3, ..., 25,  3, 25])"
      ]
     },
     "execution_count": 27,
     "metadata": {},
     "output_type": "execute_result"
    }
   ],
   "source": [
    "# 데이터 확인하기\n",
    "category = numpy.max(Y_train) + 1\n",
    "print(category, '카테고리')\n",
    "print(len(X_train), '학습용 뉴스 기사')\n",
    "print(len(X_test), '테스트용 뉴스 기사')\n",
    "print(X_train[0])\n",
    "Y_train"
   ]
  },
  {
   "cell_type": "code",
   "execution_count": 28,
   "metadata": {},
   "outputs": [],
   "source": [
    "# 데이터 전처리\n",
    "x_train = sequence.pad_sequences(X_train, maxlen=100)\n",
    "x_test = sequence.pad_sequences(X_test, maxlen=100)\n",
    "\n",
    "# Y-Data 원-핫 인코딩\n",
    "y_train = np_utils.to_categorical(Y_train)\n",
    "y_test = np_utils.to_categorical(Y_test)"
   ]
  },
  {
   "cell_type": "code",
   "execution_count": 29,
   "metadata": {},
   "outputs": [],
   "source": [
    "# 모델 설정\n",
    "model = Sequential()\n",
    "model.add(Embedding(1000, 100))\n",
    "model.add(LSTM(100, activation='tanh'))\n",
    "model.add(Dense(46, activation='softmax'))"
   ]
  },
  {
   "cell_type": "code",
   "execution_count": 30,
   "metadata": {},
   "outputs": [],
   "source": [
    "# 모델 컴파일\n",
    "model.compile(loss='categorical_crossentropy',\n",
    "             optimizer='adam',\n",
    "             metrics=['accuracy'])"
   ]
  },
  {
   "cell_type": "code",
   "execution_count": 31,
   "metadata": {},
   "outputs": [
    {
     "name": "stdout",
     "output_type": "stream",
     "text": [
      "Train on 8982 samples, validate on 2246 samples\n",
      "Epoch 1/20\n",
      "8982/8982 [==============================] - 19s 2ms/step - loss: 2.6201 - acc: 0.3438 - val_loss: 2.4223 - val_acc: 0.3620\n",
      "Epoch 2/20\n",
      "8982/8982 [==============================] - 18s 2ms/step - loss: 2.3199 - acc: 0.3880 - val_loss: 2.0556 - val_acc: 0.4951\n",
      "Epoch 3/20\n",
      "8982/8982 [==============================] - 18s 2ms/step - loss: 1.9605 - acc: 0.5026 - val_loss: 1.9183 - val_acc: 0.5303\n",
      "Epoch 4/20\n",
      "8982/8982 [==============================] - 17s 2ms/step - loss: 1.7583 - acc: 0.5509 - val_loss: 1.7325 - val_acc: 0.5623\n",
      "Epoch 5/20\n",
      "8982/8982 [==============================] - 18s 2ms/step - loss: 1.6607 - acc: 0.5766 - val_loss: 1.6614 - val_acc: 0.5868\n",
      "Epoch 6/20\n",
      "8982/8982 [==============================] - 18s 2ms/step - loss: 1.5653 - acc: 0.6000 - val_loss: 1.5581 - val_acc: 0.6126\n",
      "Epoch 7/20\n",
      "8982/8982 [==============================] - 18s 2ms/step - loss: 1.4560 - acc: 0.6308 - val_loss: 1.5239 - val_acc: 0.6202\n",
      "Epoch 8/20\n",
      "8982/8982 [==============================] - 18s 2ms/step - loss: 1.3714 - acc: 0.6472 - val_loss: 1.4774 - val_acc: 0.6220\n",
      "Epoch 9/20\n",
      "8982/8982 [==============================] - 19s 2ms/step - loss: 1.3020 - acc: 0.6663 - val_loss: 1.3829 - val_acc: 0.6545\n",
      "Epoch 10/20\n",
      "8982/8982 [==============================] - 18s 2ms/step - loss: 1.2193 - acc: 0.6884 - val_loss: 1.3643 - val_acc: 0.6545\n",
      "Epoch 11/20\n",
      "8982/8982 [==============================] - 18s 2ms/step - loss: 1.1647 - acc: 0.7025 - val_loss: 1.3121 - val_acc: 0.6741\n",
      "Epoch 12/20\n",
      "8982/8982 [==============================] - 18s 2ms/step - loss: 1.0875 - acc: 0.7194 - val_loss: 1.2631 - val_acc: 0.6910\n",
      "Epoch 13/20\n",
      "8982/8982 [==============================] - 18s 2ms/step - loss: 1.0351 - acc: 0.7370 - val_loss: 1.2471 - val_acc: 0.6812\n",
      "Epoch 14/20\n",
      "8982/8982 [==============================] - 18s 2ms/step - loss: 0.9915 - acc: 0.7468 - val_loss: 1.1936 - val_acc: 0.6986\n",
      "Epoch 15/20\n",
      "8982/8982 [==============================] - 18s 2ms/step - loss: 0.9343 - acc: 0.7620 - val_loss: 1.1718 - val_acc: 0.7079\n",
      "Epoch 16/20\n",
      "8982/8982 [==============================] - 18s 2ms/step - loss: 0.8875 - acc: 0.7758 - val_loss: 1.1765 - val_acc: 0.7142\n",
      "Epoch 17/20\n",
      "8982/8982 [==============================] - 18s 2ms/step - loss: 0.8404 - acc: 0.7888 - val_loss: 1.1612 - val_acc: 0.7177\n",
      "Epoch 18/20\n",
      "8982/8982 [==============================] - 18s 2ms/step - loss: 0.8244 - acc: 0.7918 - val_loss: 1.1784 - val_acc: 0.7195\n",
      "Epoch 19/20\n",
      "8982/8982 [==============================] - 18s 2ms/step - loss: 0.7792 - acc: 0.8047 - val_loss: 1.1776 - val_acc: 0.7208\n",
      "Epoch 20/20\n",
      "8982/8982 [==============================] - 18s 2ms/step - loss: 0.7405 - acc: 0.8144 - val_loss: 1.1685 - val_acc: 0.7217\n"
     ]
    }
   ],
   "source": [
    "# 모델의 실행\n",
    "history = model.fit(x_train, y_train, batch_size=100, epochs=20, validation_data=(x_test, y_test))"
   ]
  },
  {
   "cell_type": "code",
   "execution_count": 32,
   "metadata": {},
   "outputs": [
    {
     "name": "stdout",
     "output_type": "stream",
     "text": [
      "2246/2246 [==============================] - 2s 877us/step\n",
      "Test Accuracy: 0.7217\n"
     ]
    }
   ],
   "source": [
    "# 테스트 정확도\n",
    "print(\"Test Accuracy: %.4f\" % (model.evaluate(x_test, y_test)[1]))"
   ]
  },
  {
   "cell_type": "code",
   "execution_count": 33,
   "metadata": {},
   "outputs": [],
   "source": [
    "# 테스트셋 오차\n",
    "y_vloss = history.history['val_loss']"
   ]
  },
  {
   "cell_type": "code",
   "execution_count": 34,
   "metadata": {},
   "outputs": [],
   "source": [
    "# 학습셋 오차\n",
    "y_loss = history.history['loss']"
   ]
  },
  {
   "cell_type": "code",
   "execution_count": 35,
   "metadata": {},
   "outputs": [
    {
     "data": {
      "text/plain": [
       "Text(0, 0.5, 'loss')"
      ]
     },
     "execution_count": 35,
     "metadata": {},
     "output_type": "execute_result"
    },
    {
     "data": {
      "image/png": "[encoded data removed]",
      "text/plain": [
       "<Figure size 432x288 with 1 Axes>"
      ]
     },
     "metadata": {
      "needs_background": "light"
     },
     "output_type": "display_data"
    }
   ],
   "source": [
    "# 그래프로 표현\n",
    "x_len = numpy.arange(len(y_loss))\n",
    "plt.plot(x_len, y_vloss, marker='.', c='red', label='Testset_loss')\n",
    "plt.plot(x_len, y_loss, marker='.', c='blue', label='Trainset_loss')\n",
    "\n",
    "# 그리드를 그리고 레이블을 표시\n",
    "plt.legend(loc='upper right')\n",
    "plt.grid()\n",
    "plt.xlabel('epoch')\n",
    "plt.ylabel('loss')"
   ]
  },
  {
   "cell_type": "code",
   "execution_count": null,
   "metadata": {},
   "outputs": [],
   "source": []
  }
 ],
 "metadata": {
  "kernelspec": {
   "display_name": "Python 3",
   "language": "python",
   "name": "python3"
  },
  "language_info": {
   "codemirror_mode": {
    "name": "ipython",
    "version": 3
   },
   "file_extension": ".py",
   "mimetype": "text/x-python",
   "name": "python",
   "nbconvert_exporter": "python",
   "pygments_lexer": "ipython3",
   "version": "3.5.6"
  }
 },
 "nbformat": 4,
 "nbformat_minor": 2
}
